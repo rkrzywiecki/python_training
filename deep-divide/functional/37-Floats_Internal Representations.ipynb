{
 "cells": [
  {
   "cell_type": "code",
   "id": "initial_id",
   "metadata": {
    "collapsed": true,
    "ExecuteTime": {
     "end_time": "2024-05-29T12:18:27.191469Z",
     "start_time": "2024-05-29T12:18:27.181120Z"
    }
   },
   "source": "float(10)",
   "outputs": [
    {
     "data": {
      "text/plain": [
       "10.0"
      ]
     },
     "execution_count": 1,
     "metadata": {},
     "output_type": "execute_result"
    }
   ],
   "execution_count": 1
  },
  {
   "metadata": {
    "ExecuteTime": {
     "end_time": "2024-05-29T12:19:19.332114Z",
     "start_time": "2024-05-29T12:19:19.327307Z"
    }
   },
   "cell_type": "code",
   "source": "float('2.5')",
   "id": "f97589b857ef304a",
   "outputs": [
    {
     "data": {
      "text/plain": [
       "2.5"
      ]
     },
     "execution_count": 2,
     "metadata": {},
     "output_type": "execute_result"
    }
   ],
   "execution_count": 2
  },
  {
   "metadata": {
    "ExecuteTime": {
     "end_time": "2024-05-29T12:19:55.406962Z",
     "start_time": "2024-05-29T12:19:55.401552Z"
    }
   },
   "cell_type": "code",
   "source": "float('2.5')",
   "id": "7b31608538df4600",
   "outputs": [
    {
     "data": {
      "text/plain": [
       "2.5"
      ]
     },
     "execution_count": 4,
     "metadata": {},
     "output_type": "execute_result"
    }
   ],
   "execution_count": 4
  },
  {
   "metadata": {
    "ExecuteTime": {
     "end_time": "2024-05-29T12:20:27.241015Z",
     "start_time": "2024-05-29T12:20:27.237551Z"
    }
   },
   "cell_type": "code",
   "source": "from fractions import Fraction",
   "id": "b96272b7fea862e6",
   "outputs": [],
   "execution_count": 5
  },
  {
   "metadata": {
    "ExecuteTime": {
     "end_time": "2024-05-29T12:20:57.332616Z",
     "start_time": "2024-05-29T12:20:57.328054Z"
    }
   },
   "cell_type": "code",
   "source": "Fraction('2.5')",
   "id": "7d9101e8db59f80c",
   "outputs": [
    {
     "data": {
      "text/plain": [
       "Fraction(5, 2)"
      ]
     },
     "execution_count": 6,
     "metadata": {},
     "output_type": "execute_result"
    }
   ],
   "execution_count": 6
  },
  {
   "metadata": {
    "ExecuteTime": {
     "end_time": "2024-05-29T12:21:18.113779Z",
     "start_time": "2024-05-29T12:21:18.056251Z"
    }
   },
   "cell_type": "code",
   "source": "Fraction('2,5')",
   "id": "db28b3be4f5f649d",
   "outputs": [
    {
     "ename": "ValueError",
     "evalue": "Invalid literal for Fraction: '2,5'",
     "output_type": "error",
     "traceback": [
      "\u001B[1;31m---------------------------------------------------------------------------\u001B[0m",
      "\u001B[1;31mValueError\u001B[0m                                Traceback (most recent call last)",
      "Cell \u001B[1;32mIn[7], line 1\u001B[0m\n\u001B[1;32m----> 1\u001B[0m Fraction(\u001B[38;5;124m'\u001B[39m\u001B[38;5;124m2,5\u001B[39m\u001B[38;5;124m'\u001B[39m)\n",
      "File \u001B[1;32m~\\anaconda3\\Lib\\fractions.py:115\u001B[0m, in \u001B[0;36mFraction.__new__\u001B[1;34m(cls, numerator, denominator, _normalize)\u001B[0m\n\u001B[0;32m    113\u001B[0m m \u001B[38;5;241m=\u001B[39m _RATIONAL_FORMAT\u001B[38;5;241m.\u001B[39mmatch(numerator)\n\u001B[0;32m    114\u001B[0m \u001B[38;5;28;01mif\u001B[39;00m m \u001B[38;5;129;01mis\u001B[39;00m \u001B[38;5;28;01mNone\u001B[39;00m:\n\u001B[1;32m--> 115\u001B[0m     \u001B[38;5;28;01mraise\u001B[39;00m \u001B[38;5;167;01mValueError\u001B[39;00m(\u001B[38;5;124m'\u001B[39m\u001B[38;5;124mInvalid literal for Fraction: \u001B[39m\u001B[38;5;132;01m%r\u001B[39;00m\u001B[38;5;124m'\u001B[39m \u001B[38;5;241m%\u001B[39m\n\u001B[0;32m    116\u001B[0m                      numerator)\n\u001B[0;32m    117\u001B[0m numerator \u001B[38;5;241m=\u001B[39m \u001B[38;5;28mint\u001B[39m(m\u001B[38;5;241m.\u001B[39mgroup(\u001B[38;5;124m'\u001B[39m\u001B[38;5;124mnum\u001B[39m\u001B[38;5;124m'\u001B[39m) \u001B[38;5;129;01mor\u001B[39;00m \u001B[38;5;124m'\u001B[39m\u001B[38;5;124m0\u001B[39m\u001B[38;5;124m'\u001B[39m)\n\u001B[0;32m    118\u001B[0m denom \u001B[38;5;241m=\u001B[39m m\u001B[38;5;241m.\u001B[39mgroup(\u001B[38;5;124m'\u001B[39m\u001B[38;5;124mdenom\u001B[39m\u001B[38;5;124m'\u001B[39m)\n",
      "\u001B[1;31mValueError\u001B[0m: Invalid literal for Fraction: '2,5'"
     ]
    }
   ],
   "execution_count": 7
  },
  {
   "metadata": {
    "ExecuteTime": {
     "end_time": "2024-05-29T12:21:57.612861Z",
     "start_time": "2024-05-29T12:21:57.606786Z"
    }
   },
   "cell_type": "code",
   "source": "Fraction('22/7')",
   "id": "7305e4f733dc85b4",
   "outputs": [
    {
     "data": {
      "text/plain": [
       "Fraction(22, 7)"
      ]
     },
     "execution_count": 8,
     "metadata": {},
     "output_type": "execute_result"
    }
   ],
   "execution_count": 8
  },
  {
   "metadata": {
    "ExecuteTime": {
     "end_time": "2024-05-30T07:24:00.195531Z",
     "start_time": "2024-05-30T07:24:00.186620Z"
    }
   },
   "cell_type": "code",
   "source": "from fractions import Fraction",
   "id": "c4e09daa22d45ab6",
   "outputs": [],
   "execution_count": 9
  },
  {
   "metadata": {
    "ExecuteTime": {
     "end_time": "2024-05-30T07:24:27.244319Z",
     "start_time": "2024-05-30T07:24:27.240404Z"
    }
   },
   "cell_type": "code",
   "source": "a = Fraction('22/7')",
   "id": "500a4773d5fcbe9",
   "outputs": [],
   "execution_count": 10
  },
  {
   "metadata": {
    "ExecuteTime": {
     "end_time": "2024-05-30T07:24:32.564631Z",
     "start_time": "2024-05-30T07:24:32.555513Z"
    }
   },
   "cell_type": "code",
   "source": "float(a)",
   "id": "cbefe008bd442278",
   "outputs": [
    {
     "data": {
      "text/plain": [
       "3.142857142857143"
      ]
     },
     "execution_count": 11,
     "metadata": {},
     "output_type": "execute_result"
    }
   ],
   "execution_count": 11
  },
  {
   "metadata": {
    "ExecuteTime": {
     "end_time": "2024-05-30T07:30:02.093644Z",
     "start_time": "2024-05-30T07:30:02.089264Z"
    }
   },
   "cell_type": "code",
   "source": "print(0.1)",
   "id": "8f729bfbcd8b4be8",
   "outputs": [
    {
     "name": "stdout",
     "output_type": "stream",
     "text": [
      "0.1\n"
     ]
    }
   ],
   "execution_count": 12
  },
  {
   "metadata": {
    "ExecuteTime": {
     "end_time": "2024-05-30T07:30:34.512157Z",
     "start_time": "2024-05-30T07:30:34.506096Z"
    }
   },
   "cell_type": "code",
   "source": "format(0.1,'.15f')",
   "id": "a00cbc7c6cc3e384",
   "outputs": [
    {
     "data": {
      "text/plain": [
       "'0.100000000000000'"
      ]
     },
     "execution_count": 13,
     "metadata": {},
     "output_type": "execute_result"
    }
   ],
   "execution_count": 13
  },
  {
   "metadata": {
    "ExecuteTime": {
     "end_time": "2024-05-30T07:31:04.806289Z",
     "start_time": "2024-05-30T07:31:04.801268Z"
    }
   },
   "cell_type": "code",
   "source": "format(0.1,'.25f')",
   "id": "86daefa3f395d99f",
   "outputs": [
    {
     "data": {
      "text/plain": [
       "'0.1000000000000000055511151'"
      ]
     },
     "execution_count": 14,
     "metadata": {},
     "output_type": "execute_result"
    }
   ],
   "execution_count": 14
  },
  {
   "metadata": {
    "ExecuteTime": {
     "end_time": "2024-05-30T07:31:14.866710Z",
     "start_time": "2024-05-30T07:31:14.860794Z"
    }
   },
   "cell_type": "code",
   "source": "print(125)",
   "id": "958649a7731bf1c1",
   "outputs": [
    {
     "name": "stdout",
     "output_type": "stream",
     "text": [
      "125\n"
     ]
    }
   ],
   "execution_count": 15
  },
  {
   "metadata": {
    "ExecuteTime": {
     "end_time": "2024-05-30T07:31:22.729668Z",
     "start_time": "2024-05-30T07:31:22.724506Z"
    }
   },
   "cell_type": "code",
   "source": "print(0.125)",
   "id": "7fe697b0026960f2",
   "outputs": [
    {
     "name": "stdout",
     "output_type": "stream",
     "text": [
      "0.125\n"
     ]
    }
   ],
   "execution_count": 16
  },
  {
   "metadata": {
    "ExecuteTime": {
     "end_time": "2024-05-30T07:31:30.673725Z",
     "start_time": "2024-05-30T07:31:30.668961Z"
    }
   },
   "cell_type": "code",
   "source": "0.125",
   "id": "5a21077b8a1dd527",
   "outputs": [
    {
     "data": {
      "text/plain": [
       "0.125"
      ]
     },
     "execution_count": 17,
     "metadata": {},
     "output_type": "execute_result"
    }
   ],
   "execution_count": 17
  },
  {
   "metadata": {
    "ExecuteTime": {
     "end_time": "2024-05-30T07:31:40.232863Z",
     "start_time": "2024-05-30T07:31:40.227984Z"
    }
   },
   "cell_type": "code",
   "source": "format(0.125,'.15f')",
   "id": "3d5fe809c6fccf0c",
   "outputs": [
    {
     "data": {
      "text/plain": [
       "'0.125000000000000'"
      ]
     },
     "execution_count": 18,
     "metadata": {},
     "output_type": "execute_result"
    }
   ],
   "execution_count": 18
  },
  {
   "metadata": {
    "ExecuteTime": {
     "end_time": "2024-05-30T07:31:48.556288Z",
     "start_time": "2024-05-30T07:31:48.551779Z"
    }
   },
   "cell_type": "code",
   "source": "format(0.125,'.25f')",
   "id": "9e213135dc7c033c",
   "outputs": [
    {
     "data": {
      "text/plain": [
       "'0.1250000000000000000000000'"
      ]
     },
     "execution_count": 19,
     "metadata": {},
     "output_type": "execute_result"
    }
   ],
   "execution_count": 19
  },
  {
   "metadata": {
    "ExecuteTime": {
     "end_time": "2024-05-30T07:32:34.736656Z",
     "start_time": "2024-05-30T07:32:34.732662Z"
    }
   },
   "cell_type": "code",
   "source": "a = 0.1 + 0.1 + 0.1",
   "id": "67f489479532b6e",
   "outputs": [],
   "execution_count": 20
  },
  {
   "metadata": {
    "ExecuteTime": {
     "end_time": "2024-05-30T07:32:41.803269Z",
     "start_time": "2024-05-30T07:32:41.799362Z"
    }
   },
   "cell_type": "code",
   "source": "b = 0.3",
   "id": "8807a8187e4d6236",
   "outputs": [],
   "execution_count": 21
  },
  {
   "metadata": {
    "ExecuteTime": {
     "end_time": "2024-05-30T07:32:47.402917Z",
     "start_time": "2024-05-30T07:32:47.397350Z"
    }
   },
   "cell_type": "code",
   "source": "a == b",
   "id": "43037158f8371414",
   "outputs": [
    {
     "data": {
      "text/plain": [
       "False"
      ]
     },
     "execution_count": 22,
     "metadata": {},
     "output_type": "execute_result"
    }
   ],
   "execution_count": 22
  },
  {
   "metadata": {
    "ExecuteTime": {
     "end_time": "2024-05-30T07:33:00.102936Z",
     "start_time": "2024-05-30T07:33:00.097825Z"
    }
   },
   "cell_type": "code",
   "source": "format(a, '.25f')",
   "id": "33871eb1129e5f38",
   "outputs": [
    {
     "data": {
      "text/plain": [
       "'0.3000000000000000444089210'"
      ]
     },
     "execution_count": 23,
     "metadata": {},
     "output_type": "execute_result"
    }
   ],
   "execution_count": 23
  },
  {
   "metadata": {
    "ExecuteTime": {
     "end_time": "2024-05-30T07:33:14.364535Z",
     "start_time": "2024-05-30T07:33:14.357473Z"
    }
   },
   "cell_type": "code",
   "source": "format(b, '.25f')",
   "id": "2f8443bc9581b8ca",
   "outputs": [
    {
     "data": {
      "text/plain": [
       "'0.2999999999999999888977698'"
      ]
     },
     "execution_count": 24,
     "metadata": {},
     "output_type": "execute_result"
    }
   ],
   "execution_count": 24
  },
  {
   "metadata": {
    "ExecuteTime": {
     "end_time": "2024-05-30T09:02:44.729335Z",
     "start_time": "2024-05-30T09:02:44.720513Z"
    }
   },
   "cell_type": "code",
   "source": [
    "x = 0.1\n",
    "format(x, '.25f')"
   ],
   "id": "f719927ea1d80cce",
   "outputs": [
    {
     "data": {
      "text/plain": [
       "'0.1000000000000000055511151'"
      ]
     },
     "execution_count": 25,
     "metadata": {},
     "output_type": "execute_result"
    }
   ],
   "execution_count": 25
  },
  {
   "metadata": {
    "ExecuteTime": {
     "end_time": "2024-05-30T09:03:28.104643Z",
     "start_time": "2024-05-30T09:03:28.099250Z"
    }
   },
   "cell_type": "code",
   "source": [
    "x = 0.125\n",
    "format(x, '.25f')"
   ],
   "id": "9594f640dd7f6f95",
   "outputs": [
    {
     "data": {
      "text/plain": [
       "'0.1250000000000000000000000'"
      ]
     },
     "execution_count": 26,
     "metadata": {},
     "output_type": "execute_result"
    }
   ],
   "execution_count": 26
  },
  {
   "metadata": {
    "ExecuteTime": {
     "end_time": "2024-05-30T09:04:26.666814Z",
     "start_time": "2024-05-30T09:04:26.663283Z"
    }
   },
   "cell_type": "code",
   "source": "x = 0.125 + 0.125 + 0.125",
   "id": "8dcd07b8a28139d0",
   "outputs": [],
   "execution_count": 27
  },
  {
   "metadata": {
    "ExecuteTime": {
     "end_time": "2024-05-30T09:04:33.859199Z",
     "start_time": "2024-05-30T09:04:33.853304Z"
    }
   },
   "cell_type": "code",
   "source": "y = 0.375",
   "id": "f385f8bb020f4f54",
   "outputs": [],
   "execution_count": 28
  },
  {
   "metadata": {
    "ExecuteTime": {
     "end_time": "2024-05-30T09:04:38.694580Z",
     "start_time": "2024-05-30T09:04:38.687851Z"
    }
   },
   "cell_type": "code",
   "source": "x == y",
   "id": "f888879ca4869239",
   "outputs": [
    {
     "data": {
      "text/plain": [
       "True"
      ]
     },
     "execution_count": 29,
     "metadata": {},
     "output_type": "execute_result"
    }
   ],
   "execution_count": 29
  },
  {
   "metadata": {
    "ExecuteTime": {
     "end_time": "2024-05-30T09:05:11.580566Z",
     "start_time": "2024-05-30T09:05:11.576443Z"
    }
   },
   "cell_type": "code",
   "source": "x = 0.1 + 0.1 + 0.1",
   "id": "b2c93e2b742cdf2c",
   "outputs": [],
   "execution_count": 30
  },
  {
   "metadata": {
    "ExecuteTime": {
     "end_time": "2024-05-30T09:05:18.402342Z",
     "start_time": "2024-05-30T09:05:18.397750Z"
    }
   },
   "cell_type": "code",
   "source": "y = 0.3",
   "id": "b137712828862d38",
   "outputs": [],
   "execution_count": 31
  },
  {
   "metadata": {
    "ExecuteTime": {
     "end_time": "2024-05-30T09:05:24.099735Z",
     "start_time": "2024-05-30T09:05:24.094342Z"
    }
   },
   "cell_type": "code",
   "source": "x == y",
   "id": "3a9548eec486b74d",
   "outputs": [
    {
     "data": {
      "text/plain": [
       "False"
      ]
     },
     "execution_count": 32,
     "metadata": {},
     "output_type": "execute_result"
    }
   ],
   "execution_count": 32
  },
  {
   "metadata": {
    "ExecuteTime": {
     "end_time": "2024-05-30T09:06:32.560248Z",
     "start_time": "2024-05-30T09:06:32.555996Z"
    }
   },
   "cell_type": "code",
   "source": "round(x, 3)",
   "id": "aa2f778c53cb0cb",
   "outputs": [
    {
     "data": {
      "text/plain": [
       "0.3"
      ]
     },
     "execution_count": 33,
     "metadata": {},
     "output_type": "execute_result"
    }
   ],
   "execution_count": 33
  },
  {
   "metadata": {
    "ExecuteTime": {
     "end_time": "2024-05-30T09:06:41.919172Z",
     "start_time": "2024-05-30T09:06:41.912975Z"
    }
   },
   "cell_type": "code",
   "source": "round(y, 3)",
   "id": "52534226a5552372",
   "outputs": [
    {
     "data": {
      "text/plain": [
       "0.3"
      ]
     },
     "execution_count": 34,
     "metadata": {},
     "output_type": "execute_result"
    }
   ],
   "execution_count": 34
  },
  {
   "metadata": {
    "ExecuteTime": {
     "end_time": "2024-05-30T09:32:49.843222Z",
     "start_time": "2024-05-30T09:32:49.836624Z"
    }
   },
   "cell_type": "code",
   "source": "from math import isclose",
   "id": "852f4960f5e5f785",
   "outputs": [],
   "execution_count": 1
  },
  {
   "metadata": {
    "ExecuteTime": {
     "end_time": "2024-05-30T09:34:15.921101Z",
     "start_time": "2024-05-30T09:34:15.916981Z"
    }
   },
   "cell_type": "code",
   "source": [
    "x = 0.1 + 0.1 + 0.1\n",
    "y = 0.3"
   ],
   "id": "be46f15d0d25299f",
   "outputs": [],
   "execution_count": 2
  },
  {
   "metadata": {
    "ExecuteTime": {
     "end_time": "2024-05-30T09:35:42.189207Z",
     "start_time": "2024-05-30T09:35:42.184449Z"
    }
   },
   "cell_type": "code",
   "source": "isclose(x, y)   ",
   "id": "bbc825e81489c6c4",
   "outputs": [
    {
     "data": {
      "text/plain": [
       "True"
      ]
     },
     "execution_count": 3,
     "metadata": {},
     "output_type": "execute_result"
    }
   ],
   "execution_count": 3
  },
  {
   "metadata": {
    "ExecuteTime": {
     "end_time": "2024-05-30T09:35:48.370342Z",
     "start_time": "2024-05-30T09:35:48.364472Z"
    }
   },
   "cell_type": "code",
   "source": "x == y",
   "id": "d48a368ac776e78f",
   "outputs": [
    {
     "data": {
      "text/plain": [
       "False"
      ]
     },
     "execution_count": 4,
     "metadata": {},
     "output_type": "execute_result"
    }
   ],
   "execution_count": 4
  },
  {
   "metadata": {
    "ExecuteTime": {
     "end_time": "2024-05-30T09:38:09.450556Z",
     "start_time": "2024-05-30T09:38:09.445456Z"
    }
   },
   "cell_type": "code",
   "source": [
    "x = 123456789.01\n",
    "y = 123456789.02\n",
    "isclose(x, y, rel_tol=0.01)"
   ],
   "id": "9bc007e15c922d5a",
   "outputs": [
    {
     "data": {
      "text/plain": [
       "True"
      ]
     },
     "execution_count": 11,
     "metadata": {},
     "output_type": "execute_result"
    }
   ],
   "execution_count": 11
  },
  {
   "metadata": {
    "ExecuteTime": {
     "end_time": "2024-05-30T09:36:46.285224Z",
     "start_time": "2024-05-30T09:36:46.282520Z"
    }
   },
   "cell_type": "code",
   "source": "x = 0.01",
   "id": "831d6f0c84541f8b",
   "outputs": [],
   "execution_count": 6
  },
  {
   "metadata": {
    "ExecuteTime": {
     "end_time": "2024-05-30T09:36:55.969620Z",
     "start_time": "2024-05-30T09:36:55.965631Z"
    }
   },
   "cell_type": "code",
   "source": "y = 0.02",
   "id": "bc0410e4612f43e",
   "outputs": [],
   "execution_count": 7
  },
  {
   "metadata": {
    "ExecuteTime": {
     "end_time": "2024-05-30T09:38:38.661282Z",
     "start_time": "2024-05-30T09:38:38.656201Z"
    }
   },
   "cell_type": "code",
   "source": [
    "x = 0.01\n",
    "y = 0.02\n",
    "isclose(x, y, rel_tol=0.01)"
   ],
   "id": "895c310d6164ec54",
   "outputs": [
    {
     "data": {
      "text/plain": [
       "False"
      ]
     },
     "execution_count": 12,
     "metadata": {},
     "output_type": "execute_result"
    }
   ],
   "execution_count": 12
  },
  {
   "metadata": {
    "ExecuteTime": {
     "end_time": "2024-05-30T09:40:10.980746Z",
     "start_time": "2024-05-30T09:40:10.975638Z"
    }
   },
   "cell_type": "code",
   "source": [
    "x = 0.0000001\n",
    "y = 0.0000002\n",
    "isclose(x, y, rel_tol=0.01)"
   ],
   "id": "cfc80a3f42f4f47c",
   "outputs": [
    {
     "data": {
      "text/plain": [
       "False"
      ]
     },
     "execution_count": 13,
     "metadata": {},
     "output_type": "execute_result"
    }
   ],
   "execution_count": 13
  },
  {
   "metadata": {
    "ExecuteTime": {
     "end_time": "2024-05-30T09:41:38.346308Z",
     "start_time": "2024-05-30T09:41:38.340749Z"
    }
   },
   "cell_type": "code",
   "source": "isclose(x, y, rel_tol=0.01, abs_tol=0.01)",
   "id": "eb8e2d7de6dbbeb7",
   "outputs": [
    {
     "data": {
      "text/plain": [
       "True"
      ]
     },
     "execution_count": 14,
     "metadata": {},
     "output_type": "execute_result"
    }
   ],
   "execution_count": 14
  },
  {
   "metadata": {},
   "cell_type": "code",
   "outputs": [],
   "execution_count": null,
   "source": "",
   "id": "48d9ac9b7572a2d1"
  }
 ],
 "metadata": {
  "kernelspec": {
   "display_name": "Python 3",
   "language": "python",
   "name": "python3"
  },
  "language_info": {
   "codemirror_mode": {
    "name": "ipython",
    "version": 2
   },
   "file_extension": ".py",
   "mimetype": "text/x-python",
   "name": "python",
   "nbconvert_exporter": "python",
   "pygments_lexer": "ipython2",
   "version": "2.7.6"
  }
 },
 "nbformat": 4,
 "nbformat_minor": 5
}
