{
 "cells": [
  {
   "cell_type": "code",
   "execution_count": 1,
   "id": "initial_id",
   "metadata": {
    "ExecuteTime": {
     "end_time": "2024-06-01T07:44:38.512692Z",
     "start_time": "2024-06-01T07:44:38.501158Z"
    },
    "collapsed": true
   },
   "outputs": [
    {
     "data": {
      "text/plain": [
       "1"
      ]
     },
     "execution_count": 1,
     "metadata": {},
     "output_type": "execute_result"
    }
   ],
   "source": [
    "round(1.0)"
   ]
  },
  {
   "cell_type": "code",
   "execution_count": 2,
   "id": "c591128832ff9967",
   "metadata": {
    "ExecuteTime": {
     "end_time": "2024-06-01T07:44:44.186099Z",
     "start_time": "2024-06-01T07:44:44.180093Z"
    }
   },
   "outputs": [
    {
     "data": {
      "text/plain": [
       "1"
      ]
     },
     "execution_count": 2,
     "metadata": {},
     "output_type": "execute_result"
    }
   ],
   "source": [
    "round(1.1)"
   ]
  },
  {
   "cell_type": "code",
   "execution_count": 3,
   "id": "5da2dae730c2147f",
   "metadata": {
    "ExecuteTime": {
     "end_time": "2024-06-01T07:44:55.538372Z",
     "start_time": "2024-06-01T07:44:55.533147Z"
    }
   },
   "outputs": [
    {
     "data": {
      "text/plain": [
       "2"
      ]
     },
     "execution_count": 3,
     "metadata": {},
     "output_type": "execute_result"
    }
   ],
   "source": [
    "round(1.6)"
   ]
  },
  {
   "cell_type": "code",
   "execution_count": 4,
   "id": "97b4f1f54336a3b8",
   "metadata": {
    "ExecuteTime": {
     "end_time": "2024-06-01T07:45:11.978892Z",
     "start_time": "2024-06-01T07:45:11.973985Z"
    }
   },
   "outputs": [
    {
     "data": {
      "text/plain": [
       "2.0"
      ]
     },
     "execution_count": 4,
     "metadata": {},
     "output_type": "execute_result"
    }
   ],
   "source": [
    "round(1.5,0 )"
   ]
  },
  {
   "cell_type": "code",
   "execution_count": 5,
   "id": "a67e5c6c0665b98b",
   "metadata": {
    "ExecuteTime": {
     "end_time": "2024-06-01T07:45:23.717999Z",
     "start_time": "2024-06-01T07:45:23.431648Z"
    }
   },
   "outputs": [
    {
     "ename": "NameError",
     "evalue": "name 'roung' is not defined",
     "output_type": "error",
     "traceback": [
      "\u001b[1;31m---------------------------------------------------------------------------\u001b[0m",
      "\u001b[1;31mNameError\u001b[0m                                 Traceback (most recent call last)",
      "Cell \u001b[1;32mIn[5], line 1\u001b[0m\n\u001b[1;32m----> 1\u001b[0m roung(\u001b[38;5;241m1.5\u001b[39m,\u001b[38;5;241m2\u001b[39m)\n",
      "\u001b[1;31mNameError\u001b[0m: name 'roung' is not defined"
     ]
    }
   ],
   "source": [
    "roung(1.5,2)"
   ]
  },
  {
   "cell_type": "code",
   "execution_count": 6,
   "id": "680fda3e0aa2f3b5",
   "metadata": {
    "ExecuteTime": {
     "end_time": "2024-06-01T07:45:36.060114Z",
     "start_time": "2024-06-01T07:45:36.054624Z"
    }
   },
   "outputs": [
    {
     "data": {
      "text/plain": [
       "1.5"
      ]
     },
     "execution_count": 6,
     "metadata": {},
     "output_type": "execute_result"
    }
   ],
   "source": [
    "round(1.5, 2)"
   ]
  },
  {
   "cell_type": "code",
   "execution_count": 7,
   "id": "d89f8cb8d3744228",
   "metadata": {
    "ExecuteTime": {
     "end_time": "2024-06-01T07:45:53.353363Z",
     "start_time": "2024-06-01T07:45:53.349859Z"
    }
   },
   "outputs": [
    {
     "name": "stdout",
     "output_type": "stream",
     "text": [
      "Help on built-in function round in module builtins:\n",
      "\n",
      "round(number, ndigits=None)\n",
      "    Round a number to a given precision in decimal digits.\n",
      "    \n",
      "    The return value is an integer if ndigits is omitted or None.  Otherwise\n",
      "    the return value has the same type as the number.  ndigits may be negative.\n",
      "\n"
     ]
    }
   ],
   "source": [
    "help(round)"
   ]
  },
  {
   "cell_type": "code",
   "execution_count": 8,
   "id": "76265038108cf863",
   "metadata": {
    "ExecuteTime": {
     "end_time": "2024-06-01T07:46:26.700412Z",
     "start_time": "2024-06-01T07:46:26.695218Z"
    }
   },
   "outputs": [
    {
     "data": {
      "text/plain": [
       "1.23"
      ]
     },
     "execution_count": 8,
     "metadata": {},
     "output_type": "execute_result"
    }
   ],
   "source": [
    "round(1.23, 3)"
   ]
  },
  {
   "cell_type": "code",
   "execution_count": 9,
   "id": "7ac8957405c2d23b",
   "metadata": {
    "ExecuteTime": {
     "end_time": "2024-06-01T07:46:46.261781Z",
     "start_time": "2024-06-01T07:46:46.256124Z"
    }
   },
   "outputs": [
    {
     "data": {
      "text/plain": [
       "1.23"
      ]
     },
     "execution_count": 9,
     "metadata": {},
     "output_type": "execute_result"
    }
   ],
   "source": [
    "round(1.23333, 2)"
   ]
  },
  {
   "cell_type": "code",
   "execution_count": 10,
   "id": "39ff2af3448cf5ca",
   "metadata": {
    "ExecuteTime": {
     "end_time": "2024-06-01T07:46:59.735997Z",
     "start_time": "2024-06-01T07:46:59.730915Z"
    }
   },
   "outputs": [
    {
     "data": {
      "text/plain": [
       "1.234"
      ]
     },
     "execution_count": 10,
     "metadata": {},
     "output_type": "execute_result"
    }
   ],
   "source": [
    "round(1.2345, 3)"
   ]
  },
  {
   "cell_type": "code",
   "execution_count": 11,
   "id": "593b7df240f44b5d",
   "metadata": {
    "ExecuteTime": {
     "end_time": "2024-06-01T07:50:39.244225Z",
     "start_time": "2024-06-01T07:50:39.237382Z"
    }
   },
   "outputs": [
    {
     "data": {
      "text/plain": [
       "0.0"
      ]
     },
     "execution_count": 11,
     "metadata": {},
     "output_type": "execute_result"
    }
   ],
   "source": [
    "round(1.2345, -3)"
   ]
  },
  {
   "cell_type": "code",
   "execution_count": 12,
   "id": "525d122a5308c037",
   "metadata": {
    "ExecuteTime": {
     "end_time": "2024-06-01T07:50:55.338583Z",
     "start_time": "2024-06-01T07:50:55.333713Z"
    }
   },
   "outputs": [
    {
     "data": {
      "text/plain": [
       "0.0"
      ]
     },
     "execution_count": 12,
     "metadata": {},
     "output_type": "execute_result"
    }
   ],
   "source": [
    "round(1.2345, -2)"
   ]
  },
  {
   "cell_type": "code",
   "execution_count": 13,
   "id": "831a2a5dcce7ca72",
   "metadata": {
    "ExecuteTime": {
     "end_time": "2024-06-01T07:51:22.073151Z",
     "start_time": "2024-06-01T07:51:22.068700Z"
    }
   },
   "outputs": [
    {
     "data": {
      "text/plain": [
       "20.0"
      ]
     },
     "execution_count": 13,
     "metadata": {},
     "output_type": "execute_result"
    }
   ],
   "source": [
    "round(18.2, -1)"
   ]
  },
  {
   "cell_type": "code",
   "execution_count": 14,
   "id": "ba3bd5b5726c4899",
   "metadata": {
    "ExecuteTime": {
     "end_time": "2024-06-01T07:51:29.658429Z",
     "start_time": "2024-06-01T07:51:29.653822Z"
    }
   },
   "outputs": [
    {
     "data": {
      "text/plain": [
       "0.0"
      ]
     },
     "execution_count": 14,
     "metadata": {},
     "output_type": "execute_result"
    }
   ],
   "source": [
    "round(18.2, -2)"
   ]
  },
  {
   "cell_type": "code",
   "execution_count": 15,
   "id": "45fad09424b4ac53",
   "metadata": {
    "ExecuteTime": {
     "end_time": "2024-06-01T07:59:04.439258Z",
     "start_time": "2024-06-01T07:59:04.434717Z"
    }
   },
   "outputs": [
    {
     "data": {
      "text/plain": [
       "20"
      ]
     },
     "execution_count": 15,
     "metadata": {},
     "output_type": "execute_result"
    }
   ],
   "source": [
    "round(15, -1)"
   ]
  },
  {
   "cell_type": "code",
   "execution_count": 16,
   "id": "19d3e965b54430ee",
   "metadata": {
    "ExecuteTime": {
     "end_time": "2024-06-01T07:59:15.827886Z",
     "start_time": "2024-06-01T07:59:15.823089Z"
    }
   },
   "outputs": [
    {
     "data": {
      "text/plain": [
       "15"
      ]
     },
     "execution_count": 16,
     "metadata": {},
     "output_type": "execute_result"
    }
   ],
   "source": [
    "round(15, 1)\n"
   ]
  },
  {
   "cell_type": "code",
   "execution_count": 17,
   "id": "e230f599f45bbb51",
   "metadata": {
    "ExecuteTime": {
     "end_time": "2024-06-01T07:59:28.838282Z",
     "start_time": "2024-06-01T07:59:28.832825Z"
    }
   },
   "outputs": [
    {
     "data": {
      "text/plain": [
       "15"
      ]
     },
     "execution_count": 17,
     "metadata": {},
     "output_type": "execute_result"
    }
   ],
   "source": [
    "round(15)"
   ]
  },
  {
   "cell_type": "code",
   "execution_count": 18,
   "id": "11fdd9eb9dd66d55",
   "metadata": {
    "ExecuteTime": {
     "end_time": "2024-06-01T08:11:47.886463Z",
     "start_time": "2024-06-01T08:11:47.881395Z"
    }
   },
   "outputs": [],
   "source": [
    "def round_alternative(value):\n",
    "    sign = 0\n",
    "    if value >= 0:\n",
    "        sign = 1\n",
    "    if value < 0:\n",
    "        sign = -1\n",
    "    \n",
    "    return sign * int(abs(value)+0.5)\n",
    "        "
   ]
  },
  {
   "cell_type": "code",
   "execution_count": 19,
   "id": "1ef512c4b74b453c",
   "metadata": {
    "ExecuteTime": {
     "end_time": "2024-06-01T08:11:54.215813Z",
     "start_time": "2024-06-01T08:11:54.211194Z"
    }
   },
   "outputs": [
    {
     "data": {
      "text/plain": [
       "10"
      ]
     },
     "execution_count": 19,
     "metadata": {},
     "output_type": "execute_result"
    }
   ],
   "source": [
    "round_alternative(10)"
   ]
  },
  {
   "cell_type": "code",
   "execution_count": 20,
   "id": "be337c885d1410d3",
   "metadata": {
    "ExecuteTime": {
     "end_time": "2024-06-01T08:12:02.376589Z",
     "start_time": "2024-06-01T08:12:02.372572Z"
    }
   },
   "outputs": [
    {
     "data": {
      "text/plain": [
       "15"
      ]
     },
     "execution_count": 20,
     "metadata": {},
     "output_type": "execute_result"
    }
   ],
   "source": [
    "round_alternative(15)"
   ]
  },
  {
   "cell_type": "code",
   "execution_count": 21,
   "id": "7eebdd59b6fe989c",
   "metadata": {
    "ExecuteTime": {
     "end_time": "2024-06-01T08:12:21.787418Z",
     "start_time": "2024-06-01T08:12:21.782249Z"
    }
   },
   "outputs": [
    {
     "data": {
      "text/plain": [
       "10"
      ]
     },
     "execution_count": 21,
     "metadata": {},
     "output_type": "execute_result"
    }
   ],
   "source": [
    "round_alternative(10.4)"
   ]
  },
  {
   "cell_type": "code",
   "execution_count": 22,
   "id": "4d919daa1b0659a4",
   "metadata": {
    "ExecuteTime": {
     "end_time": "2024-06-01T08:12:36.938258Z",
     "start_time": "2024-06-01T08:12:36.930372Z"
    }
   },
   "outputs": [
    {
     "data": {
      "text/plain": [
       "11"
      ]
     },
     "execution_count": 22,
     "metadata": {},
     "output_type": "execute_result"
    }
   ],
   "source": [
    "round_alternative(10.5)"
   ]
  },
  {
   "cell_type": "code",
   "execution_count": 23,
   "id": "7fe00c9314c58418",
   "metadata": {
    "ExecuteTime": {
     "end_time": "2024-06-01T08:24:41.736702Z",
     "start_time": "2024-06-01T08:24:41.730280Z"
    }
   },
   "outputs": [
    {
     "data": {
      "text/plain": [
       "12"
      ]
     },
     "execution_count": 23,
     "metadata": {},
     "output_type": "execute_result"
    }
   ],
   "source": [
    "round_alternative(11.5)"
   ]
  },
  {
   "cell_type": "code",
   "execution_count": 24,
   "id": "694a491c9521bcd7",
   "metadata": {
    "ExecuteTime": {
     "end_time": "2024-06-01T08:25:00.818669Z",
     "start_time": "2024-06-01T08:25:00.813748Z"
    }
   },
   "outputs": [
    {
     "data": {
      "text/plain": [
       "11"
      ]
     },
     "execution_count": 24,
     "metadata": {},
     "output_type": "execute_result"
    }
   ],
   "source": [
    "round_alternative(10.5)"
   ]
  },
  {
   "cell_type": "code",
   "execution_count": 25,
   "id": "c8cd340dbb57c4c1",
   "metadata": {
    "ExecuteTime": {
     "end_time": "2024-06-01T08:28:15.239670Z",
     "start_time": "2024-06-01T08:28:15.236237Z"
    }
   },
   "outputs": [],
   "source": [
    "from math import copysign"
   ]
  },
  {
   "cell_type": "code",
   "execution_count": 26,
   "id": "7bfcd4e55fd15b61",
   "metadata": {
    "ExecuteTime": {
     "end_time": "2024-06-01T08:28:24.490315Z",
     "start_time": "2024-06-01T08:28:24.486392Z"
    }
   },
   "outputs": [
    {
     "name": "stdout",
     "output_type": "stream",
     "text": [
      "Help on built-in function copysign in module math:\n",
      "\n",
      "copysign(x, y, /)\n",
      "    Return a float with the magnitude (absolute value) of x but the sign of y.\n",
      "    \n",
      "    On platforms that support signed zeros, copysign(1.0, -0.0)\n",
      "    returns -1.0.\n",
      "\n"
     ]
    }
   ],
   "source": [
    "help(copysign)"
   ]
  },
  {
   "cell_type": "code",
   "execution_count": 27,
   "id": "910184ec33ffc728",
   "metadata": {
    "ExecuteTime": {
     "end_time": "2024-06-01T08:30:08.065486Z",
     "start_time": "2024-06-01T08:30:08.062386Z"
    }
   },
   "outputs": [],
   "source": [
    "def round_up(x):\n",
    "    from math import fabs, copysign\n",
    "    return copysign(1, x) * int(fabs(x) + 0.5)"
   ]
  },
  {
   "cell_type": "code",
   "execution_count": 28,
   "id": "3d736166e1aa72ac",
   "metadata": {
    "ExecuteTime": {
     "end_time": "2024-06-01T08:30:30.887782Z",
     "start_time": "2024-06-01T08:30:30.882236Z"
    }
   },
   "outputs": [
    {
     "data": {
      "text/plain": [
       "11.0"
      ]
     },
     "execution_count": 28,
     "metadata": {},
     "output_type": "execute_result"
    }
   ],
   "source": [
    "round_up(10.5)"
   ]
  },
  {
   "cell_type": "code",
   "execution_count": 29,
   "id": "1f0dd422dd38a989",
   "metadata": {
    "ExecuteTime": {
     "end_time": "2024-06-01T08:30:43.292819Z",
     "start_time": "2024-06-01T08:30:43.287642Z"
    }
   },
   "outputs": [
    {
     "data": {
      "text/plain": [
       "10.0"
      ]
     },
     "execution_count": 29,
     "metadata": {},
     "output_type": "execute_result"
    }
   ],
   "source": [
    "round_up(10.4)"
   ]
  },
  {
   "cell_type": "code",
   "execution_count": 30,
   "id": "ed02a3ce134126dd",
   "metadata": {
    "ExecuteTime": {
     "end_time": "2024-06-01T10:44:30.699113Z",
     "start_time": "2024-06-01T10:44:30.687711Z"
    }
   },
   "outputs": [
    {
     "data": {
      "text/plain": [
       "(2, int)"
      ]
     },
     "execution_count": 30,
     "metadata": {},
     "output_type": "execute_result"
    }
   ],
   "source": [
    "a = round(1.9)\n",
    "a, type(a)"
   ]
  },
  {
   "cell_type": "code",
   "execution_count": 31,
   "id": "19eaca2815b66e1e",
   "metadata": {
    "ExecuteTime": {
     "end_time": "2024-06-01T10:45:25.263158Z",
     "start_time": "2024-06-01T10:45:25.257648Z"
    }
   },
   "outputs": [
    {
     "data": {
      "text/plain": [
       "(2.0, float)"
      ]
     },
     "execution_count": 31,
     "metadata": {},
     "output_type": "execute_result"
    }
   ],
   "source": [
    "a = round(1.9, 0)\n",
    "a, type(a)"
   ]
  },
  {
   "cell_type": "code",
   "execution_count": 2,
   "id": "28561e0777c1609e",
   "metadata": {
    "ExecuteTime": {
     "end_time": "2024-06-01T10:48:10.788261Z",
     "start_time": "2024-06-01T10:48:10.782071Z"
    }
   },
   "outputs": [
    {
     "data": {
      "text/plain": [
       "(1.889, 1.89, 1.9, 2.0)"
      ]
     },
     "execution_count": 2,
     "metadata": {},
     "output_type": "execute_result"
    }
   ],
   "source": [
    "round(1.8888, 3), round(1.8888, 2), round(1.8888, 1), round(1.8888, 0)"
   ]
  },
  {
   "cell_type": "code",
   "execution_count": 3,
   "id": "5192ca3e0d845037",
   "metadata": {},
   "outputs": [
    {
     "data": {
      "text/plain": [
       "2"
      ]
     },
     "execution_count": 3,
     "metadata": {},
     "output_type": "execute_result"
    }
   ],
   "source": [
    "round(2.0)"
   ]
  },
  {
   "cell_type": "code",
   "execution_count": 3,
   "id": "9a737cb7",
   "metadata": {},
   "outputs": [],
   "source": [
    "def _round(x):\n",
    "    from math import copysign\n",
    "    return int(x + 0.5 * copysign(1, x))"
   ]
  },
  {
   "cell_type": "code",
   "execution_count": 4,
   "id": "cefcf01b",
   "metadata": {},
   "outputs": [
    {
     "data": {
      "text/plain": [
       "2"
      ]
     },
     "execution_count": 4,
     "metadata": {},
     "output_type": "execute_result"
    }
   ],
   "source": [
    "_round(1.5)"
   ]
  },
  {
   "cell_type": "code",
   "execution_count": null,
   "id": "24959ea2",
   "metadata": {},
   "outputs": [],
   "source": []
  }
 ],
 "metadata": {
  "kernelspec": {
   "display_name": "Python 3",
   "language": "python",
   "name": "python3"
  },
  "language_info": {
   "codemirror_mode": {
    "name": "ipython",
    "version": 3
   },
   "file_extension": ".py",
   "mimetype": "text/x-python",
   "name": "python",
   "nbconvert_exporter": "python",
   "pygments_lexer": "ipython3",
   "version": "3.11.7"
  }
 },
 "nbformat": 4,
 "nbformat_minor": 5
}
