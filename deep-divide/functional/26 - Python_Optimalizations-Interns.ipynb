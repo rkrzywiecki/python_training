{
 "cells": [
  {
   "cell_type": "code",
   "execution_count": 2,
   "metadata": {},
   "outputs": [
    {
     "name": "stdout",
     "output_type": "stream",
     "text": [
      "0x7ffc5e03c448\n",
      "0x7ffc5e03c448\n"
     ]
    }
   ],
   "source": [
    "a = 10\n",
    "b = 10\n",
    "print(hex(id(a)))\n",
    "print(hex(id(b)))"
   ]
  },
  {
   "cell_type": "code",
   "execution_count": 3,
   "metadata": {},
   "outputs": [
    {
     "name": "stdout",
     "output_type": "stream",
     "text": [
      "0x175342a6010\n",
      "0x175342a5790\n"
     ]
    }
   ],
   "source": [
    "a = 500\n",
    "b = 500\n",
    "print(hex(id(a)))\n",
    "print(hex(id(b)))"
   ]
  },
  {
   "cell_type": "code",
   "execution_count": 4,
   "metadata": {},
   "outputs": [
    {
     "name": "stdout",
     "output_type": "stream",
     "text": [
      "0x175342a5fb0\n",
      "0x175342a6130\n"
     ]
    }
   ],
   "source": [
    "c = 500\n",
    "d = 500\n",
    "print(hex(id(c)))\n",
    "print(hex(id(d)))"
   ]
  },
  {
   "cell_type": "code",
   "execution_count": 5,
   "metadata": {},
   "outputs": [
    {
     "name": "stdout",
     "output_type": "stream",
     "text": [
      "0x7ffc5e03c448\n",
      "0x7ffc5e03c448\n"
     ]
    }
   ],
   "source": [
    "e = 10\n",
    "f = 10\n",
    "print(hex(id(e)))\n",
    "print(hex(id(f)))"
   ]
  },
  {
   "cell_type": "code",
   "execution_count": 6,
   "metadata": {},
   "outputs": [
    {
     "name": "stdout",
     "output_type": "stream",
     "text": [
      "0x7ffc5e03e308\n",
      "0x7ffc5e03e308\n",
      "0x175342a6370\n",
      "0x175342a65f0\n"
     ]
    }
   ],
   "source": [
    "e = 256\n",
    "f = 256\n",
    "x = 257\n",
    "z = 257\n",
    "print(hex(id(e)))\n",
    "print(hex(id(f)))\n",
    "print(hex(id(x)))   \n",
    "print(hex(id(z)))"
   ]
  },
  {
   "cell_type": "code",
   "execution_count": 7,
   "metadata": {},
   "outputs": [
    {
     "name": "stdout",
     "output_type": "stream",
     "text": [
      "0x7ffc5e03c268\n",
      "0x7ffc5e03c268\n",
      "0x175342a5cb0\n",
      "0x175342a5f10\n"
     ]
    }
   ],
   "source": [
    "l = -5\n",
    "m = -5\n",
    "j = -6\n",
    "k = -6\n",
    "print(hex(id(l)))\n",
    "print(hex(id(m)))\n",
    "print(hex(id(j)))\n",
    "print(hex(id(k)))"
   ]
  },
  {
   "cell_type": "code",
   "execution_count": null,
   "metadata": {},
   "outputs": [],
   "source": []
  }
 ],
 "metadata": {
  "kernelspec": {
   "display_name": "base",
   "language": "python",
   "name": "python3"
  },
  "language_info": {
   "codemirror_mode": {
    "name": "ipython",
    "version": 3
   },
   "file_extension": ".py",
   "mimetype": "text/x-python",
   "name": "python",
   "nbconvert_exporter": "python",
   "pygments_lexer": "ipython3",
   "version": "3.11.7"
  }
 },
 "nbformat": 4,
 "nbformat_minor": 2
}
