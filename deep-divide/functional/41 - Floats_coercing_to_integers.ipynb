{
 "cells": [
  {
   "cell_type": "code",
   "execution_count": 1,
   "id": "initial_id",
   "metadata": {
    "ExecuteTime": {
     "end_time": "2024-05-31T16:16:33.710535Z",
     "start_time": "2024-05-31T16:16:33.696943Z"
    },
    "collapsed": true
   },
   "outputs": [],
   "source": [
    "from math import trunc"
   ]
  },
  {
   "cell_type": "code",
   "execution_count": 2,
   "id": "7081436eeb2f51a3",
   "metadata": {
    "ExecuteTime": {
     "end_time": "2024-05-31T16:17:19.771703Z",
     "start_time": "2024-05-31T16:17:19.761881Z"
    }
   },
   "outputs": [
    {
     "data": {
      "text/plain": [
       "(10, 10, 10)"
      ]
     },
     "execution_count": 2,
     "metadata": {},
     "output_type": "execute_result"
    }
   ],
   "source": [
    "trunc(10.3), trunc(10.5), trunc(10.9)"
   ]
  },
  {
   "cell_type": "code",
   "execution_count": 3,
   "id": "b2452540ed326788",
   "metadata": {
    "ExecuteTime": {
     "end_time": "2024-05-31T16:25:55.899850Z",
     "start_time": "2024-05-31T16:25:55.893420Z"
    }
   },
   "outputs": [
    {
     "data": {
      "text/plain": [
       "(10, 10, 10)"
      ]
     },
     "execution_count": 3,
     "metadata": {},
     "output_type": "execute_result"
    }
   ],
   "source": [
    "int(10.3), int(10.5), int(10.6)"
   ]
  },
  {
   "cell_type": "code",
   "execution_count": 4,
   "id": "5d60c66634bbf732",
   "metadata": {
    "ExecuteTime": {
     "end_time": "2024-05-31T16:26:14.875478Z",
     "start_time": "2024-05-31T16:26:14.871182Z"
    }
   },
   "outputs": [],
   "source": [
    "from math import floor"
   ]
  },
  {
   "cell_type": "code",
   "execution_count": 5,
   "id": "bb7f05f4a3b3eaef",
   "metadata": {
    "ExecuteTime": {
     "end_time": "2024-05-31T16:26:39.506703Z",
     "start_time": "2024-05-31T16:26:39.500417Z"
    }
   },
   "outputs": [
    {
     "data": {
      "text/plain": [
       "(10, 10, 10)"
      ]
     },
     "execution_count": 5,
     "metadata": {},
     "output_type": "execute_result"
    }
   ],
   "source": [
    "floor(10.3), floor(10.4), floor(10.9)"
   ]
  },
  {
   "cell_type": "code",
   "execution_count": 6,
   "id": "bd0d5ed288bd8886",
   "metadata": {
    "ExecuteTime": {
     "end_time": "2024-05-31T16:26:59.074376Z",
     "start_time": "2024-05-31T16:26:59.068712Z"
    }
   },
   "outputs": [
    {
     "data": {
      "text/plain": [
       "(-10, -11, -11)"
      ]
     },
     "execution_count": 6,
     "metadata": {},
     "output_type": "execute_result"
    }
   ],
   "source": [
    "trunc(-10.4), floor(-10.3), floor(-10.4)"
   ]
  },
  {
   "cell_type": "code",
   "execution_count": 7,
   "id": "3d20933459955be9",
   "metadata": {
    "ExecuteTime": {
     "end_time": "2024-05-31T16:28:06.408598Z",
     "start_time": "2024-05-31T16:28:06.405083Z"
    }
   },
   "outputs": [],
   "source": [
    "from math import ceil"
   ]
  },
  {
   "cell_type": "code",
   "execution_count": 8,
   "id": "d4cca9a43cf06441",
   "metadata": {
    "ExecuteTime": {
     "end_time": "2024-05-31T16:28:27.756699Z",
     "start_time": "2024-05-31T16:28:27.751053Z"
    }
   },
   "outputs": [
    {
     "data": {
      "text/plain": [
       "(11, 11, 11)"
      ]
     },
     "execution_count": 8,
     "metadata": {},
     "output_type": "execute_result"
    }
   ],
   "source": [
    "ceil(10.3), ceil(10.4), ceil(10.9)"
   ]
  },
  {
   "cell_type": "code",
   "execution_count": 9,
   "id": "12bc81f5bdb021b6",
   "metadata": {
    "ExecuteTime": {
     "end_time": "2024-05-31T16:28:53.661112Z",
     "start_time": "2024-05-31T16:28:53.655672Z"
    }
   },
   "outputs": [
    {
     "data": {
      "text/plain": [
       "(-10, -10, -10)"
      ]
     },
     "execution_count": 9,
     "metadata": {},
     "output_type": "execute_result"
    }
   ],
   "source": [
    "ceil(-10.3), ceil(-10.5), ceil(-10.9)"
   ]
  },
  {
   "cell_type": "code",
   "execution_count": 1,
   "id": "5854423a56c9bba0",
   "metadata": {
    "ExecuteTime": {
     "end_time": "2024-05-31T16:29:40.321509Z",
     "start_time": "2024-05-31T16:29:40.316654Z"
    }
   },
   "outputs": [
    {
     "name": "stdout",
     "output_type": "stream",
     "text": [
      "Help on built-in function round in module builtins:\n",
      "\n",
      "round(number, ndigits=None)\n",
      "    Round a number to a given precision in decimal digits.\n",
      "    \n",
      "    The return value is an integer if ndigits is omitted or None.  Otherwise\n",
      "    the return value has the same type as the number.  ndigits may be negative.\n",
      "\n"
     ]
    }
   ],
   "source": [
    "help(round)"
   ]
  },
  {
   "cell_type": "code",
   "execution_count": null,
   "id": "d9baeb81193519ca",
   "metadata": {},
   "outputs": [],
   "source": []
  }
 ],
 "metadata": {
  "kernelspec": {
   "display_name": "Python 3",
   "language": "python",
   "name": "python3"
  },
  "language_info": {
   "codemirror_mode": {
    "name": "ipython",
    "version": 3
   },
   "file_extension": ".py",
   "mimetype": "text/x-python",
   "name": "python",
   "nbconvert_exporter": "python",
   "pygments_lexer": "ipython3",
   "version": "3.11.7"
  }
 },
 "nbformat": 4,
 "nbformat_minor": 5
}
