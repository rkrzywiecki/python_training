{
 "cells": [
  {
   "cell_type": "code",
   "id": "initial_id",
   "metadata": {
    "collapsed": true,
    "ExecuteTime": {
     "end_time": "2024-05-27T05:24:04.648633Z",
     "start_time": "2024-05-27T05:24:04.638635Z"
    }
   },
   "source": "a =int('101', 2)",
   "outputs": [],
   "execution_count": 1
  },
  {
   "metadata": {
    "ExecuteTime": {
     "end_time": "2024-05-27T05:24:04.664633Z",
     "start_time": "2024-05-27T05:24:04.651634Z"
    }
   },
   "cell_type": "code",
   "source": "a",
   "id": "5ac65349260efa00",
   "outputs": [
    {
     "data": {
      "text/plain": [
       "5"
      ]
     },
     "execution_count": 2,
     "metadata": {},
     "output_type": "execute_result"
    }
   ],
   "execution_count": 2
  },
  {
   "metadata": {
    "ExecuteTime": {
     "end_time": "2024-05-27T05:24:17.713804Z",
     "start_time": "2024-05-27T05:24:17.699889Z"
    }
   },
   "cell_type": "code",
   "source": "b = 0b101",
   "id": "cca9da6d0ea2e922",
   "outputs": [],
   "execution_count": 3
  },
  {
   "metadata": {
    "ExecuteTime": {
     "end_time": "2024-05-27T05:24:20.783696Z",
     "start_time": "2024-05-27T05:24:20.775698Z"
    }
   },
   "cell_type": "code",
   "source": "b",
   "id": "690f0025ccaf1e9f",
   "outputs": [
    {
     "data": {
      "text/plain": [
       "5"
      ]
     },
     "execution_count": 4,
     "metadata": {},
     "output_type": "execute_result"
    }
   ],
   "execution_count": 4
  },
  {
   "metadata": {
    "ExecuteTime": {
     "end_time": "2024-05-27T05:33:24.413659Z",
     "start_time": "2024-05-27T05:33:24.406661Z"
    }
   },
   "cell_type": "code",
   "source": [
    "def from_base10(n, b):\n",
    "    if b < 2:\n",
    "        raise ValueError('Base b must be >= 2')\n",
    "    if n < 0:\n",
    "        raise ValueError('Number n must be >= 0')\n",
    "    if n == 0:\n",
    "        return [0]\n",
    "    digits = []\n",
    "    while n > 0:\n",
    "        n, m = divmod(n, b)\n",
    "        digits.insert(0, m)\n",
    "    return digits\n"
   ],
   "id": "b3c867b178211595",
   "outputs": [],
   "execution_count": 7
  },
  {
   "metadata": {
    "ExecuteTime": {
     "end_time": "2024-05-27T05:33:26.541705Z",
     "start_time": "2024-05-27T05:33:26.531842Z"
    }
   },
   "cell_type": "code",
   "source": "from_base10(10, 2)",
   "id": "609c6b4862f71c25",
   "outputs": [
    {
     "data": {
      "text/plain": [
       "[1, 0, 1, 0]"
      ]
     },
     "execution_count": 8,
     "metadata": {},
     "output_type": "execute_result"
    }
   ],
   "execution_count": 8
  },
  {
   "metadata": {
    "ExecuteTime": {
     "end_time": "2024-05-27T05:33:46.952811Z",
     "start_time": "2024-05-27T05:33:46.939190Z"
    }
   },
   "cell_type": "code",
   "source": "from_base10(255, 16)",
   "id": "41f6c50dce9c5fda",
   "outputs": [
    {
     "data": {
      "text/plain": [
       "[15, 15]"
      ]
     },
     "execution_count": 9,
     "metadata": {},
     "output_type": "execute_result"
    }
   ],
   "execution_count": 9
  },
  {
   "metadata": {},
   "cell_type": "code",
   "outputs": [],
   "execution_count": null,
   "source": "",
   "id": "4f3ae701d6c97a0b"
  }
 ],
 "metadata": {
  "kernelspec": {
   "display_name": "Python 3",
   "language": "python",
   "name": "python3"
  },
  "language_info": {
   "codemirror_mode": {
    "name": "ipython",
    "version": 2
   },
   "file_extension": ".py",
   "mimetype": "text/x-python",
   "name": "python",
   "nbconvert_exporter": "python",
   "pygments_lexer": "ipython2",
   "version": "2.7.6"
  }
 },
 "nbformat": 4,
 "nbformat_minor": 5
}
