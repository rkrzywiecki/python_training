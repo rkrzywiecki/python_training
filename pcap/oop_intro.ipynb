{
 "cells": [
  {
   "cell_type": "code",
   "execution_count": 1,
   "metadata": {},
   "outputs": [
    {
     "name": "stdout",
     "output_type": "stream",
     "text": [
      "This area is 100\n"
     ]
    }
   ],
   "source": [
    "# procedural approach\n",
    "def calculate_arew(width, height):\n",
    "    return width * height\n",
    "\n",
    "width = int(input(\"What is the width? \"))\n",
    "height = int(input(\"Whata is the height? \"))\n",
    "area = calculate_arew(width, height)\n",
    "print(\"This area is\", area)"
   ]
  },
  {
   "cell_type": "code",
   "execution_count": null,
   "metadata": {},
   "outputs": [],
   "source": [
    "def calculate_arew(width, height):\n",
    "    return width * height\n",
    "\n",
    "width = int(input(\"What is the width? \"))\n",
    "height = int(input(\"Whata is the height? \"))\n",
    "area = calculate_arew(width, height)\n",
    "print(\"This area is\", area)\n",
    "\n",
    "age = int(input(\"Hey, and what is your age? \"))\n",
    "strange_operation = calculate_arew(age, height)\n",
    "print(\"Your age muliplied by the height is\", strange_operation)"
   ]
  }
 ],
 "metadata": {
  "kernelspec": {
   "display_name": "base",
   "language": "python",
   "name": "python3"
  },
  "language_info": {
   "codemirror_mode": {
    "name": "ipython",
    "version": 3
   },
   "file_extension": ".py",
   "mimetype": "text/x-python",
   "name": "python",
   "nbconvert_exporter": "python",
   "pygments_lexer": "ipython3",
   "version": "3.11.7"
  }
 },
 "nbformat": 4,
 "nbformat_minor": 2
}
